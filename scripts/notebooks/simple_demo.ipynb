{
 "cells": [
  {
   "cell_type": "code",
   "execution_count": 9,
   "id": "84fa4b08",
   "metadata": {},
   "outputs": [
    {
     "name": "stdout",
     "output_type": "stream",
     "text": [
      "<Response [200]>\n"
     ]
    }
   ],
   "source": [
    "import os,sys\n",
    "import requests\n",
    "result = requests.get(url=\"http://www.google.com\")\n",
    "print(result)"
   ]
  },
  {
   "cell_type": "markdown",
   "id": "70e9adf4",
   "metadata": {},
   "source": [
    "# This is a heading\n",
    "This is normal text"
   ]
  }
 ],
 "metadata": {
  "kernelspec": {
   "display_name": "Python 3 (ipykernel)",
   "language": "python",
   "name": "python3"
  },
  "language_info": {
   "codemirror_mode": {
    "name": "ipython",
    "version": 3
   },
   "file_extension": ".py",
   "mimetype": "text/x-python",
   "name": "python",
   "nbconvert_exporter": "python",
   "pygments_lexer": "ipython3",
   "version": "3.9.12"
  }
 },
 "nbformat": 4,
 "nbformat_minor": 5
}
