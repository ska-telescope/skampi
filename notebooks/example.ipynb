{
 "cells": [
  {
   "attachments": {},
   "cell_type": "markdown",
   "metadata": {},
   "source": [
    "# Example Notebook\n",
    "\n",
    "This example notebook showcases how we can create interactive test scripts that we can sistematically use in Skampi to debug or demo the system. This is a simple ping() TANGO example.\n",
    "\n",
    "First, make sure the TANGO_HOST below is well defined (adjust KUBE_NAMESPACE):"
   ]
  },
  {
   "cell_type": "code",
   "execution_count": 12,
   "metadata": {},
   "outputs": [
    {
     "name": "stdout",
     "output_type": "stream",
     "text": [
      "Using TANGO_HOST: databaseds-tango-base.ci-ska-skampi-master-low.svc.cluster.local:10000\n"
     ]
    }
   ],
   "source": [
    "import os\n",
    "\n",
    "from tango import Database, DeviceProxy\n",
    "\n",
    "CLUSTER_DOMAIN = \"cluster.local\"\n",
    "DATABASE_DS = \"databaseds-tango-base\"\n",
    "\n",
    "KUBE_NAMESPACE = \"integration-mid\"  # Change this to your preference\n",
    "\n",
    "TANGO_HOST = f\"{DATABASE_DS}.{KUBE_NAMESPACE}.svc.{CLUSTER_DOMAIN}:10000\"\n",
    "print(f\"Using TANGO_HOST: {TANGO_HOST}\")\n",
    "os.environ[\"TANGO_HOST\"] = TANGO_HOST"
   ]
  },
  {
   "attachments": {},
   "cell_type": "markdown",
   "metadata": {},
   "source": [
    "Now we can get database information and ping a device !"
   ]
  },
  {
   "cell_type": "code",
   "execution_count": 13,
   "metadata": {},
   "outputs": [
    {
     "name": "stdout",
     "output_type": "stream",
     "text": [
      "\n",
      "Database info:\n",
      "TANGO Database sys/database/2\n",
      " \n",
      "Running since 2023-06-23 09:18:12\n",
      " \n",
      "Devices defined  = 58\n",
      "Devices exported  = 54\n",
      "Device servers defined  = 29\n",
      "Device servers exported  = 27\n",
      " \n",
      "Device properties defined  = 152 [History lgth = 218]\n",
      "Class properties defined  = 72 [History lgth = 5]\n",
      "Device attribute properties defined  = 24 [History lgth = 24]\n",
      "Class attribute properties defined  = 0 [History lgth = 0]\n",
      "Object properties defined  = 0 [History lgth = 0]\n",
      "\n",
      "\n",
      "Servers:\n",
      "allocator_device/default\n",
      "AlveoDevice/default\n",
      "central_node_low/01\n",
      "controller_device/default\n",
      "csp_master_leaf_node/01\n",
      "csp_subarray_leaf_node_low/01\n",
      "csp_subarray_leaf_node_low/02\n",
      "csp_subarray_leaf_node_low/03\n",
      "DataBaseds/2\n",
      "LogConsumer/log\n",
      "LowCbfProcessor/default\n",
      "LowCspController/controller\n",
      "LowCspSubarray/subarray1\n",
      "SDPController/0\n",
      "SDPExchange/0\n",
      "SDPSubarray/01\n",
      "SDPSubarray/02\n",
      "SDPSubarray/03\n",
      "sdp_master_leaf_node/01\n",
      "sdp_subarray_leaf_node/01\n",
      "sdp_subarray_leaf_node/02\n",
      "sdp_subarray_leaf_node/03\n",
      "subarray_device/default\n",
      "subarray_node_low/01\n",
      "subarray_node_low/02\n",
      "subarray_node_low/03\n",
      "TangoAccessControl/1\n",
      "TangoRestServer/rest\n",
      "TangoTest/test\n",
      "\n",
      "Device:\n",
      "Device 'low-cbf/control/0' ping: 42323\n"
     ]
    }
   ],
   "source": [
    "database_ds = Database()\n",
    "print(\"\\nDatabase info:\")\n",
    "print(database_ds.get_info())\n",
    "\n",
    "print(\"\\nServers:\")\n",
    "print(\"\\n\".join([server for server in database_ds.get_server_list()]))\n",
    "\n",
    "DEVICE = \"low-cbf/control/0\"\n",
    "device = DeviceProxy(DEVICE)\n",
    "\n",
    "print(\"\\nDevice:\")\n",
    "print(f\"Device '{DEVICE}' ping: {device.ping()}\")"
   ]
  },
  {
   "attachments": {},
   "cell_type": "markdown",
   "metadata": {},
   "source": [
    "That's all !"
   ]
  }
 ],
 "metadata": {
  "kernelspec": {
   "display_name": "ska-skampi-tests--S1M8z5A-py3.10",
   "language": "python",
   "name": "python3"
  },
  "language_info": {
   "codemirror_mode": {
    "name": "ipython",
    "version": 3
   },
   "file_extension": ".py",
   "mimetype": "text/x-python",
   "name": "python",
   "nbconvert_exporter": "python",
   "pygments_lexer": "ipython3",
   "version": "3.10.6"
  },
  "orig_nbformat": 4
 },
 "nbformat": 4,
 "nbformat_minor": 2
}
