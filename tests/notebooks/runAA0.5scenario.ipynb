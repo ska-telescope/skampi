{
 "cells": [
  {
   "cell_type": "markdown",
   "id": "af245e6b",
   "metadata": {},
   "source": [
    "# PoC: Run AA0.5 Scenario - Band 2 MID Imaging\n",
    "Based on https://confluence.skatelescope.org/display/SST/AA0.5+Scenarios?preview=/145374457/145376035/AA0.5_MID_Scenario_Imaging_in_Band_2.docx"
   ]
  },
  {
   "cell_type": "markdown",
   "id": "eadbddbd",
   "metadata": {},
   "source": [
    "## <font color='green'>Notebook set-up</font>"
   ]
  },
  {
   "cell_type": "markdown",
   "id": "88fdb54c",
   "metadata": {},
   "source": [
    "### Import Python Modules and Dummy Commands\n",
    "The commands in omc_dummy_commands are currently dummy commands which don't match the reality of OMC / OET / TMC commands."
   ]
  },
  {
   "cell_type": "code",
   "execution_count": null,
   "id": "c1ab6ce2",
   "metadata": {},
   "outputs": [],
   "source": [
    "import json\n",
    "import time\n",
    "import numpy as np\n",
    "from bokeh.plotting import figure, output_file, save\n",
    "from bokeh.io import show, output_notebook, push_notebook\n",
    "from bokeh.layouts import row\n",
    "from bokeh.models import LabelSet, ColumnDataSource\n",
    "output_notebook()\n",
    "from omc_dummy_commands import *"
   ]
  },
  {
   "cell_type": "markdown",
   "id": "242bf94c",
   "metadata": {},
   "source": [
    "### Fixed parameters (for this PoC)"
   ]
  },
  {
   "cell_type": "code",
   "execution_count": null,
   "id": "eed3fe0a",
   "metadata": {},
   "outputs": [],
   "source": [
    "int_time = 5.0 #-- time in seconds for correlator integration time\n",
    "speed_up = 500.0 #-- totally artificial speed up factor for time\n",
    "num_chans = 512 #-- number of channels \n",
    "total_time = 0.0\n",
    "off_colour = 'darkmagenta'\n",
    "on_colour = 'forestgreen' \n",
    "on_angle = 1.57/2.0\n",
    "off_angle = 0.0"
   ]
  },
  {
   "cell_type": "markdown",
   "id": "63f71bf7",
   "metadata": {},
   "source": [
    "## <font color='green'>General Monitoring Setup </font>"
   ]
  },
  {
   "cell_type": "markdown",
   "id": "b8159f08",
   "metadata": {},
   "source": [
    "Doesn't yet exist... but some hints might be here: https://notebooks.gesis.org/binder/jupyter/user/bokeh-bokeh-notebooks-zlebh904/notebooks/tutorial/11%20-%20Running%20Bokeh%20Applications.ipynb"
   ]
  },
  {
   "cell_type": "code",
   "execution_count": null,
   "id": "7d389862",
   "metadata": {},
   "outputs": [],
   "source": [
    "#--- 'plot' for Simple monitoring --#\n",
    "monitor_plot = figure(plot_width=900, plot_height=400,toolbar_location=None,\n",
    "                      x_range=(-0.5, 1.5), y_range=(-0.5, 1.5))\n",
    "monitor_plot.axis.visible = False  # -- Hide axes\n",
    "monitor_plot.grid.visible = False  # -- Hide grid\n",
    "\n",
    "#-- initial paramters -#\n",
    "\n",
    "monitor_source = ColumnDataSource(dict(label_x = [0.5, 0.5, 0.5], label_y = [0.0, 0.5, 1.0], \n",
    "                                       label_text = ['On/Off', 'Resources Assigned?', 'Other thing'], \n",
    "                                       label_angle = [off_angle, off_angle, off_angle],\n",
    "                                       label_color = [off_colour, off_colour, off_colour]))\n",
    "\n",
    "labels = LabelSet(x='label_x', y='label_y', text='label_text', \n",
    "        x_offset=-200, y_offset=-10, render_mode='canvas',text_color='black', source=monitor_source)\n",
    "\n",
    "monitor_plot.square(x = 'label_x',y = 'label_y', size = 20, color = 'label_color', \n",
    "                    angle='label_angle', source=monitor_source)\n",
    "\n",
    "monitor_plot.add_layout(labels)"
   ]
  },
  {
   "cell_type": "code",
   "execution_count": null,
   "id": "cfe82c7f",
   "metadata": {},
   "outputs": [],
   "source": [
    "#-- Amplitude vs time/chan plots --#\n",
    "amp_time = figure(plot_width=450, plot_height=400,toolbar_location=None,\n",
    "                  x_axis_label = \"Time [s]\", y_axis_label = 'Amplitude')\n",
    "amp_avg = figure(plot_width=450, plot_height=400,toolbar_location=None, \n",
    "                 x_axis_label = \"Channels\", y_axis_label = 'Amplitude')\n",
    "amp_time.line(0,0)\n",
    "amp_avg.line(0,0)\n"
   ]
  },
  {
   "cell_type": "code",
   "execution_count": null,
   "id": "92aea833",
   "metadata": {},
   "outputs": [],
   "source": [
    "monitor_frame = show(monitor_plot, notebook_handle=True)\n",
    "amp_plots = show(row(amp_time,amp_avg), notebook_handle=True)\n"
   ]
  },
  {
   "cell_type": "markdown",
   "id": "19ab0850",
   "metadata": {},
   "source": [
    "## <font color='green'>Begin observation sequence</font> "
   ]
  },
  {
   "cell_type": "markdown",
   "id": "605cbe3b",
   "metadata": {},
   "source": [
    "### Telescope On/Off"
   ]
  },
  {
   "cell_type": "code",
   "execution_count": null,
   "id": "8f9db372",
   "metadata": {},
   "outputs": [],
   "source": [
    "telescope_onoff('on', monitor_frame, monitor_source, on_angle, on_colour, off_angle, off_colour)"
   ]
  },
  {
   "cell_type": "markdown",
   "id": "25ed57e3",
   "metadata": {},
   "source": [
    "### Assign Resource\n",
    "\n",
    "Reads *CentralNode.AssignResources* from https://confluence.skatelescope.org/display/SWSI/Configuration+Schemas into a ..."
   ]
  },
  {
   "cell_type": "code",
   "execution_count": null,
   "id": "fe3127b4",
   "metadata": {},
   "outputs": [],
   "source": [
    "resources = assign_resources('cn_assignres_mid.json', monitor_frame, monitor_source, on_angle,\n",
    "                             on_colour, off_angle, off_colour)\n",
    "show_resources(resources, resource_type=\"\")"
   ]
  },
  {
   "cell_type": "markdown",
   "id": "ced30924",
   "metadata": {},
   "source": [
    "### Configure the system\n",
    "\n",
    "Load desired observational state from a JSON string.\n",
    "\n",
    "Configurations covers CSP (CBF), DISH, SPFRx, SDP.\n",
    "\n"
   ]
  },
  {
   "cell_type": "code",
   "execution_count": null,
   "id": "8631529f",
   "metadata": {},
   "outputs": [],
   "source": [
    "#TBD"
   ]
  },
  {
   "cell_type": "markdown",
   "id": "f23bf8b8",
   "metadata": {},
   "source": [
    "### Set-up a sub array\n",
    "\n",
    "At AA0.5 there will be only 1, but useful to have."
   ]
  },
  {
   "cell_type": "code",
   "execution_count": null,
   "id": "3fa7a73f",
   "metadata": {},
   "outputs": [],
   "source": [
    "# TBD"
   ]
  },
  {
   "cell_type": "markdown",
   "id": "1caef5a9",
   "metadata": {},
   "source": [
    "### Start Observing \n",
    "\n",
    "Here targets are loaded from stand-alone JSON files (THIS NEEDS CHANGING TO BE MORE SB LIKE).\n"
   ]
  },
  {
   "cell_type": "code",
   "execution_count": null,
   "id": "02a6eee2",
   "metadata": {},
   "outputs": [],
   "source": [
    "cal_obs = observe_loop('simple_cals.json', num_chans, int_time, amp_avg, amp_time,\n",
    "                       amp_plots, total_time, num_loops = 1)"
   ]
  },
  {
   "cell_type": "code",
   "execution_count": null,
   "id": "e7bb7334",
   "metadata": {},
   "outputs": [],
   "source": [
    "targ_obs = observe_loop('simple_targs.json', num_chans, int_time, amp_avg, amp_time,\n",
    "                        amp_plots, cal_obs[0], num_loops =  2)"
   ]
  }
 ],
 "metadata": {
  "kernelspec": {
   "display_name": "Python 3",
   "language": "python",
   "name": "python3"
  },
  "language_info": {
   "codemirror_mode": {
    "name": "ipython",
    "version": 3
   },
   "file_extension": ".py",
   "mimetype": "text/x-python",
   "name": "python",
   "nbconvert_exporter": "python",
   "pygments_lexer": "ipython3",
   "version": "3.8.8"
  }
 },
 "nbformat": 4,
 "nbformat_minor": 5
}
